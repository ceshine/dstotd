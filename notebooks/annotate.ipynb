{
 "cells": [
  {
   "cell_type": "code",
   "execution_count": 1,
   "metadata": {},
   "outputs": [
    {
     "data": {
      "text/html": [
       "<script>requirejs.config({paths: { 'plotly': ['https://cdn.plot.ly/plotly-latest.min']},});if(!window.Plotly) {{require(['plotly'],function(plotly) {window.Plotly=plotly;});}}</script>"
      ],
      "text/vnd.plotly.v1+html": [
       "<script>requirejs.config({paths: { 'plotly': ['https://cdn.plot.ly/plotly-latest.min']},});if(!window.Plotly) {{require(['plotly'],function(plotly) {window.Plotly=plotly;});}}</script>"
      ]
     },
     "metadata": {},
     "output_type": "display_data"
    }
   ],
   "source": [
    "from datetime import datetime\n",
    "import json\n",
    "import os\n",
    "\n",
    "import pandas as pd\n",
    "import numpy as np\n",
    "import requests\n",
    "import plotly\n",
    "import plotly.graph_objs as go\n",
    "from bs4 import BeautifulSoup\n",
    "from tqdm import tqdm_notebook\n",
    "from joblib import Parallel, delayed\n",
    "\n",
    "\n",
    "os.environ[\"http_proxy\"] = \"http://192.168.199.10:11233\"\n",
    "os.environ[\"https_proxy\"] = \"http://192.168.199.10:11233\"\n",
    "\n",
    "%matplotlib inline\n",
    "plotly.offline.init_notebook_mode(connected=True)"
   ]
  },
  {
   "cell_type": "code",
   "execution_count": 2,
   "metadata": {},
   "outputs": [
    {
     "name": "stdout",
     "output_type": "stream",
     "text": [
      "2018-07-27T16:44:25+08:00\n",
      "\n",
      "CPython 3.6.5\n",
      "IPython 6.1.0\n",
      "\n",
      "compiler   : GCC 7.2.0\n",
      "system     : Linux\n",
      "release    : 4.10.0-32-generic\n",
      "machine    : x86_64\n",
      "processor  : x86_64\n",
      "CPU cores  : 8\n",
      "interpreter: 64bit\n",
      "plotly 2.5.1\n",
      "tqdm 4.19.8\n",
      "joblib 0.11\n",
      "pandas 0.22.0\n",
      "numpy 1.14.3\n",
      "requests 2.18.4\n"
     ]
    }
   ],
   "source": [
    "%load_ext watermark\n",
    "%watermark\n",
    "%watermark -p plotly,tqdm,joblib,pandas,numpy,requests"
   ]
  },
  {
   "cell_type": "markdown",
   "metadata": {},
   "source": [
    "## Read in the json file"
   ]
  },
  {
   "cell_type": "code",
   "execution_count": 3,
   "metadata": {},
   "outputs": [
    {
     "data": {
      "text/plain": [
       "[{'date': '2018-06-21',\n",
       "  'headline': 'Generative design',\n",
       "  'no_conversation': False,\n",
       "  'sub-headline': '',\n",
       "  'tags': [],\n",
       "  'tid': '1009921622801776640'},\n",
       " {'date': '2018-06-21',\n",
       "  'headline': 'Visualization',\n",
       "  'no_conversation': False,\n",
       "  'sub-headline': 'ImageNet Class Hierarchy',\n",
       "  'tags': ['dataviz'],\n",
       "  'tid': '1009875555234140160'}]"
      ]
     },
     "execution_count": 3,
     "metadata": {},
     "output_type": "execute_result"
    }
   ],
   "source": [
    "with open(\"../tweets.json\") as f:\n",
    "    tweets = json.load(f)\n",
    "tweets[:2]"
   ]
  },
  {
   "cell_type": "code",
   "execution_count": 4,
   "metadata": {},
   "outputs": [
    {
     "data": {
      "text/plain": [
       "[{'date': datetime.date(2018, 6, 21),\n",
       "  'headline': 'Generative design',\n",
       "  'no_conversation': False,\n",
       "  'sub-headline': '',\n",
       "  'tags': [],\n",
       "  'tid': '1009921622801776640'},\n",
       " {'date': datetime.date(2018, 6, 21),\n",
       "  'headline': 'Visualization',\n",
       "  'no_conversation': False,\n",
       "  'sub-headline': 'ImageNet Class Hierarchy',\n",
       "  'tags': ['dataviz'],\n",
       "  'tid': '1009875555234140160'}]"
      ]
     },
     "execution_count": 4,
     "metadata": {},
     "output_type": "execute_result"
    }
   ],
   "source": [
    "for t in tweets:\n",
    "    t[\"date\"] = datetime.strptime(t[\"date\"], \"%Y-%m-%d\").date()\n",
    "tweets[:2]    "
   ]
  },
  {
   "cell_type": "code",
   "execution_count": 5,
   "metadata": {},
   "outputs": [
    {
     "name": "stdout",
     "output_type": "stream",
     "text": [
      "1425\n",
      "1417\n"
     ]
    },
    {
     "data": {
      "text/html": [
       "<div>\n",
       "<style scoped>\n",
       "    .dataframe tbody tr th:only-of-type {\n",
       "        vertical-align: middle;\n",
       "    }\n",
       "\n",
       "    .dataframe tbody tr th {\n",
       "        vertical-align: top;\n",
       "    }\n",
       "\n",
       "    .dataframe thead th {\n",
       "        text-align: right;\n",
       "    }\n",
       "</style>\n",
       "<table border=\"1\" class=\"dataframe\">\n",
       "  <thead>\n",
       "    <tr style=\"text-align: right;\">\n",
       "      <th></th>\n",
       "      <th>date</th>\n",
       "      <th>headline</th>\n",
       "      <th>no_conversation</th>\n",
       "      <th>sub-headline</th>\n",
       "      <th>tags</th>\n",
       "    </tr>\n",
       "    <tr>\n",
       "      <th>tid</th>\n",
       "      <th></th>\n",
       "      <th></th>\n",
       "      <th></th>\n",
       "      <th></th>\n",
       "      <th></th>\n",
       "    </tr>\n",
       "  </thead>\n",
       "  <tbody>\n",
       "    <tr>\n",
       "      <th>1009921622801776640</th>\n",
       "      <td>2018-06-21</td>\n",
       "      <td>Generative design</td>\n",
       "      <td>False</td>\n",
       "      <td></td>\n",
       "      <td>[]</td>\n",
       "    </tr>\n",
       "    <tr>\n",
       "      <th>1009875555234140160</th>\n",
       "      <td>2018-06-21</td>\n",
       "      <td>Visualization</td>\n",
       "      <td>False</td>\n",
       "      <td>ImageNet Class Hierarchy</td>\n",
       "      <td>[dataviz]</td>\n",
       "    </tr>\n",
       "    <tr>\n",
       "      <th>1009865599344754688</th>\n",
       "      <td>2018-06-21</td>\n",
       "      <td>Visualization</td>\n",
       "      <td>False</td>\n",
       "      <td>What Makes People Happy</td>\n",
       "      <td>[dataviz]</td>\n",
       "    </tr>\n",
       "    <tr>\n",
       "      <th>1009935836345917441</th>\n",
       "      <td>2018-06-21</td>\n",
       "      <td>Notable Research</td>\n",
       "      <td>False</td>\n",
       "      <td></td>\n",
       "      <td>[research]</td>\n",
       "    </tr>\n",
       "    <tr>\n",
       "      <th>1009791778264936448</th>\n",
       "      <td>2018-06-21</td>\n",
       "      <td>Notable Research</td>\n",
       "      <td>False</td>\n",
       "      <td></td>\n",
       "      <td>[research]</td>\n",
       "    </tr>\n",
       "  </tbody>\n",
       "</table>\n",
       "</div>"
      ],
      "text/plain": [
       "                           date           headline  no_conversation  \\\n",
       "tid                                                                   \n",
       "1009921622801776640  2018-06-21  Generative design            False   \n",
       "1009875555234140160  2018-06-21      Visualization            False   \n",
       "1009865599344754688  2018-06-21      Visualization            False   \n",
       "1009935836345917441  2018-06-21   Notable Research            False   \n",
       "1009791778264936448  2018-06-21   Notable Research            False   \n",
       "\n",
       "                                 sub-headline        tags  \n",
       "tid                                                        \n",
       "1009921622801776640                                    []  \n",
       "1009875555234140160  ImageNet Class Hierarchy   [dataviz]  \n",
       "1009865599344754688   What Makes People Happy   [dataviz]  \n",
       "1009935836345917441                            [research]  \n",
       "1009791778264936448                            [research]  "
      ]
     },
     "execution_count": 5,
     "metadata": {},
     "output_type": "execute_result"
    }
   ],
   "source": [
    "df_tweets = pd.DataFrame(tweets)\n",
    "print(df_tweets.shape[0])\n",
    "df_tweets = df_tweets.drop_duplicates(\"tid\")\n",
    "print(df_tweets.shape[0])\n",
    "df_tweets.set_index(\"tid\", inplace=True)\n",
    "df_tweets.head()"
   ]
  },
  {
   "cell_type": "code",
   "execution_count": 6,
   "metadata": {},
   "outputs": [
    {
     "data": {
      "text/html": [
       "<div>\n",
       "<style scoped>\n",
       "    .dataframe tbody tr th:only-of-type {\n",
       "        vertical-align: middle;\n",
       "    }\n",
       "\n",
       "    .dataframe tbody tr th {\n",
       "        vertical-align: top;\n",
       "    }\n",
       "\n",
       "    .dataframe thead th {\n",
       "        text-align: right;\n",
       "    }\n",
       "</style>\n",
       "<table border=\"1\" class=\"dataframe\">\n",
       "  <thead>\n",
       "    <tr style=\"text-align: right;\">\n",
       "      <th></th>\n",
       "      <th>date</th>\n",
       "      <th>headline</th>\n",
       "      <th>no_conversation</th>\n",
       "      <th>sub-headline</th>\n",
       "      <th>tags</th>\n",
       "    </tr>\n",
       "    <tr>\n",
       "      <th>tid</th>\n",
       "      <th></th>\n",
       "      <th></th>\n",
       "      <th></th>\n",
       "      <th></th>\n",
       "      <th></th>\n",
       "    </tr>\n",
       "  </thead>\n",
       "  <tbody>\n",
       "    <tr>\n",
       "      <th>1001224559595409409</th>\n",
       "      <td>2018-05-28</td>\n",
       "      <td>On Data</td>\n",
       "      <td>True</td>\n",
       "      <td></td>\n",
       "      <td>[]</td>\n",
       "    </tr>\n",
       "    <tr>\n",
       "      <th>1001232275005095936</th>\n",
       "      <td>2018-05-28</td>\n",
       "      <td>On Data</td>\n",
       "      <td>True</td>\n",
       "      <td></td>\n",
       "      <td>[]</td>\n",
       "    </tr>\n",
       "    <tr>\n",
       "      <th>1001232275697123328</th>\n",
       "      <td>2018-05-28</td>\n",
       "      <td>On Data</td>\n",
       "      <td>True</td>\n",
       "      <td></td>\n",
       "      <td>[]</td>\n",
       "    </tr>\n",
       "    <tr>\n",
       "      <th>1001232276569522177</th>\n",
       "      <td>2018-05-28</td>\n",
       "      <td>On Data</td>\n",
       "      <td>True</td>\n",
       "      <td></td>\n",
       "      <td>[]</td>\n",
       "    </tr>\n",
       "    <tr>\n",
       "      <th>1019087310196039685</th>\n",
       "      <td>2018-07-16</td>\n",
       "      <td>Miscellaneous</td>\n",
       "      <td>True</td>\n",
       "      <td>Science and Engineering</td>\n",
       "      <td>[misc]</td>\n",
       "    </tr>\n",
       "  </tbody>\n",
       "</table>\n",
       "</div>"
      ],
      "text/plain": [
       "                           date       headline  no_conversation  \\\n",
       "tid                                                               \n",
       "1001224559595409409  2018-05-28        On Data             True   \n",
       "1001232275005095936  2018-05-28        On Data             True   \n",
       "1001232275697123328  2018-05-28        On Data             True   \n",
       "1001232276569522177  2018-05-28        On Data             True   \n",
       "1019087310196039685  2018-07-16  Miscellaneous             True   \n",
       "\n",
       "                                sub-headline    tags  \n",
       "tid                                                   \n",
       "1001224559595409409                               []  \n",
       "1001232275005095936                               []  \n",
       "1001232275697123328                               []  \n",
       "1001232276569522177                               []  \n",
       "1019087310196039685  Science and Engineering  [misc]  "
      ]
     },
     "execution_count": 6,
     "metadata": {},
     "output_type": "execute_result"
    }
   ],
   "source": [
    "df_tweets[df_tweets.no_conversation == True].head()"
   ]
  },
  {
   "cell_type": "markdown",
   "metadata": {},
   "source": [
    "## Assign Topic when Appropriate"
   ]
  },
  {
   "cell_type": "markdown",
   "metadata": {},
   "source": [
    "### With Only Headline "
   ]
  },
  {
   "cell_type": "code",
   "execution_count": 7,
   "metadata": {},
   "outputs": [
    {
     "data": {
      "text/plain": [
       "headline                                           date      \n",
       "\"truly-ism\"                                        2018-06-02    2\n",
       "#CraftyDataViz                                     2018-06-01    2\n",
       "10k Layer Vanilla CNN                              2018-06-14    2\n",
       "2018 Developer Survey                              2018-05-30    2\n",
       "2nd Youtube 8M dataset competition                 2018-05-23    2\n",
       "AI Tulips                                          2018-06-01    3\n",
       "AI and Compute                                     2018-05-27    4\n",
       "Academics Writing Code                             2018-07-15    2\n",
       "Add AI generated sound to AI generated paintings   2018-05-21    3\n",
       "All-star panel @NAACLHLT                           2018-06-05    2\n",
       "Amazon Selling Face-recognition tech to Police     2018-05-22    3\n",
       "AutoAugment                                        2018-06-04    3\n",
       "Avoiding \"Clique Culture\"                          2018-07-03    3\n",
       "Bernoulli data                                     2018-05-25    3\n",
       "Best Paper Award at #CVPR2018                      2018-06-19    2\n",
       "Big News for Python                                2018-07-12    3\n",
       "Capture the Flag                                   2018-07-04    3\n",
       "Causal Inference and do-Calculus                   2018-05-24    2\n",
       "Commercials written by Bots (Fake)                 2018-06-13    3\n",
       "Data Science vs. Statistics                        2018-06-23    2\n",
       "DeepMind Patents                                   2018-06-08    3\n",
       "Defining Data Science (Again)                      2018-05-23    2\n",
       "Diagnosing Schizophrenia                           2018-05-29    3\n",
       "Discussions on Academic Publishing                 2018-05-20    2\n",
       "Double-blind Review                                2018-05-28    2\n",
       "Ethics                                             2018-05-31    5\n",
       "                                                   2018-06-13    3\n",
       "Expertise in AI                                    2018-07-08    3\n",
       "FairSeq Toolkit                                    2018-06-15    2\n",
       "Fast.ai                                            2018-05-21    2\n",
       "                                                                ..\n",
       "Rocket Lander                                      2018-05-27    3\n",
       "Rules of Machine Learning                          2018-05-20    2\n",
       "SNGAN                                              2018-06-27    2\n",
       "SQuAD 2.0                                          2018-06-12    2\n",
       "See (sort of) Through Walls                        2018-06-13    3\n",
       "Spell Checking                                     2018-05-24    2\n",
       "Symbolic Cognitive Systems                         2018-06-03    7\n",
       "TensorFlow 1.9                                     2018-07-10    2\n",
       "Tensorflow 1.9                                     2018-06-09    2\n",
       "Tensorly                                           2018-06-01    2\n",
       "The Independent Resercher                          2018-06-30    3\n",
       "Translate                                          2018-05-24    2\n",
       "Unbalanced Training Data                           2018-05-26    3\n",
       "Universal Music Translation Network                2018-05-22    3\n",
       "VQ-VAE Open Sourced                                2018-05-30    2\n",
       "What do Machine Learning Practitioner Actually Do  2018-07-12    2\n",
       "World Cup 2018 Prediction                          2018-06-12    2\n",
       "[Ethics] Facebook Again                            2018-06-03    2\n",
       "[Ethics] Facebook Kills Trending Topics            2018-06-02    3\n",
       "[Ethics] Google Pulls Out of Project Maven         2018-06-01    4\n",
       "[Ethics] On Gender Imbalance (Cont.)               2018-06-02    6\n",
       "[Ethics] On Gender Imbalance in Conferences        2018-06-01    6\n",
       "[ethics] Facebook Sharing Data                     2018-06-05    2\n",
       "[ethics] Google AI Principles                      2018-06-07    3\n",
       "[ethics] ICE Cloud                                 2018-06-17    2\n",
       "[ethics] MS Employees Speaking Out                 2018-06-19    4\n",
       "[ethics] Risk Classification Assessments           2018-06-26    3\n",
       "iMaterialist Challenge (Kaggle)                    2018-05-30    2\n",
       "rstats                                             2018-06-20    3\n",
       "truly-ism (cont.)                                  2018-06-03    2\n",
       "Length: 100, dtype: int64"
      ]
     },
     "execution_count": 7,
     "metadata": {},
     "output_type": "execute_result"
    }
   ],
   "source": [
    "df_only_headline = df_tweets[(df_tweets[\"sub-headline\"].str.len() == 0) & (df_tweets[\"tags\"].apply(\n",
    "    lambda x: len(set([\"misc\", \"learning\", \"tool\", \"dataviz\", \"research\"]).intersection(set(x))) == 0\n",
    "))]\n",
    "headline_date_count = df_only_headline.groupby([\"headline\", \"date\"]).size()\n",
    "headline_date_count[headline_date_count > 1]"
   ]
  },
  {
   "cell_type": "code",
   "execution_count": 8,
   "metadata": {},
   "outputs": [
    {
     "data": {
      "text/plain": [
       "headline                                  date      \n",
       "NLP                                       2018-05-21    2\n",
       "NLP Decathlon                             2018-06-20    4\n",
       "NLP News                                  2018-06-11    1\n",
       "NLP Newsletter                            2018-06-25    1\n",
       "NLP's ImageNet Moment                     2018-07-08    2\n",
       "Pre-trained Transformer in PyTorch (NLP)  2018-06-14    1\n",
       "dtype: int64"
      ]
     },
     "execution_count": 8,
     "metadata": {},
     "output_type": "execute_result"
    }
   ],
   "source": [
    "df_only_headline[df_only_headline[\"tags\"].apply(lambda x: \"nlp\" in set(x))].groupby([\"headline\", \"date\"]).size()"
   ]
  },
  {
   "cell_type": "code",
   "execution_count": 9,
   "metadata": {},
   "outputs": [
    {
     "data": {
      "text/plain": [
       "headline  date      \n",
       "rstats    2018-06-20    3\n",
       "dtype: int64"
      ]
     },
     "execution_count": 9,
     "metadata": {},
     "output_type": "execute_result"
    }
   ],
   "source": [
    "df_only_headline[df_only_headline[\"tags\"].apply(lambda x: \"rstats\" in set(x))].groupby([\"headline\", \"date\"]).size()"
   ]
  },
  {
   "cell_type": "code",
   "execution_count": 10,
   "metadata": {},
   "outputs": [
    {
     "data": {
      "text/plain": [
       "headline\n",
       "Ethics       2\n",
       "Notables     7\n",
       "Resources    2\n",
       "dtype: int64"
      ]
     },
     "execution_count": 10,
     "metadata": {},
     "output_type": "execute_result"
    }
   ],
   "source": [
    "headline_unique_date_count = headline_date_count.groupby(\"headline\").size()\n",
    "headline_unique_date_count[headline_unique_date_count > 1]"
   ]
  },
  {
   "cell_type": "code",
   "execution_count": 11,
   "metadata": {},
   "outputs": [
    {
     "data": {
      "text/html": [
       "<div>\n",
       "<style scoped>\n",
       "    .dataframe tbody tr th:only-of-type {\n",
       "        vertical-align: middle;\n",
       "    }\n",
       "\n",
       "    .dataframe tbody tr th {\n",
       "        vertical-align: top;\n",
       "    }\n",
       "\n",
       "    .dataframe thead th {\n",
       "        text-align: right;\n",
       "    }\n",
       "</style>\n",
       "<table border=\"1\" class=\"dataframe\">\n",
       "  <thead>\n",
       "    <tr style=\"text-align: right;\">\n",
       "      <th></th>\n",
       "      <th>date</th>\n",
       "      <th>headline</th>\n",
       "      <th>no_conversation</th>\n",
       "      <th>sub-headline</th>\n",
       "      <th>tags</th>\n",
       "      <th>parent_tid</th>\n",
       "    </tr>\n",
       "    <tr>\n",
       "      <th>tid</th>\n",
       "      <th></th>\n",
       "      <th></th>\n",
       "      <th></th>\n",
       "      <th></th>\n",
       "      <th></th>\n",
       "      <th></th>\n",
       "    </tr>\n",
       "  </thead>\n",
       "  <tbody>\n",
       "    <tr>\n",
       "      <th>1009979751430270976</th>\n",
       "      <td>2018-06-21</td>\n",
       "      <td>Resources</td>\n",
       "      <td>False</td>\n",
       "      <td></td>\n",
       "      <td>[]</td>\n",
       "      <td>1009923776350474241</td>\n",
       "    </tr>\n",
       "    <tr>\n",
       "      <th>1009947919531855872</th>\n",
       "      <td>2018-06-21</td>\n",
       "      <td>Resources</td>\n",
       "      <td>False</td>\n",
       "      <td></td>\n",
       "      <td>[]</td>\n",
       "      <td>1009923776350474241</td>\n",
       "    </tr>\n",
       "    <tr>\n",
       "      <th>1009445101788114945</th>\n",
       "      <td>2018-06-21</td>\n",
       "      <td>Resources</td>\n",
       "      <td>False</td>\n",
       "      <td>Gensim Doc2Vec Bug Fixed</td>\n",
       "      <td>[]</td>\n",
       "      <td>1009923776350474241</td>\n",
       "    </tr>\n",
       "    <tr>\n",
       "      <th>1009832281274322944</th>\n",
       "      <td>2018-06-21</td>\n",
       "      <td>Resources</td>\n",
       "      <td>False</td>\n",
       "      <td>Microsft Research Open Data</td>\n",
       "      <td>[research]</td>\n",
       "      <td>1009923776350474241</td>\n",
       "    </tr>\n",
       "    <tr>\n",
       "      <th>1010037304642031616</th>\n",
       "      <td>2018-06-21</td>\n",
       "      <td>Miscellanous</td>\n",
       "      <td>False</td>\n",
       "      <td></td>\n",
       "      <td>[]</td>\n",
       "      <td>1009905083918712833</td>\n",
       "    </tr>\n",
       "  </tbody>\n",
       "</table>\n",
       "</div>"
      ],
      "text/plain": [
       "                           date      headline  no_conversation  \\\n",
       "tid                                                              \n",
       "1009979751430270976  2018-06-21     Resources            False   \n",
       "1009947919531855872  2018-06-21     Resources            False   \n",
       "1009445101788114945  2018-06-21     Resources            False   \n",
       "1009832281274322944  2018-06-21     Resources            False   \n",
       "1010037304642031616  2018-06-21  Miscellanous            False   \n",
       "\n",
       "                                    sub-headline        tags  \\\n",
       "tid                                                            \n",
       "1009979751430270976                                       []   \n",
       "1009947919531855872                                       []   \n",
       "1009445101788114945     Gensim Doc2Vec Bug Fixed          []   \n",
       "1009832281274322944  Microsft Research Open Data  [research]   \n",
       "1010037304642031616                                       []   \n",
       "\n",
       "                              parent_tid  \n",
       "tid                                       \n",
       "1009979751430270976  1009923776350474241  \n",
       "1009947919531855872  1009923776350474241  \n",
       "1009445101788114945  1009923776350474241  \n",
       "1009832281274322944  1009923776350474241  \n",
       "1010037304642031616  1009905083918712833  "
      ]
     },
     "execution_count": 11,
     "metadata": {},
     "output_type": "execute_result"
    }
   ],
   "source": [
    "blacklist = set([\"NLP\", \"Notables\", \"rstats\"])\n",
    "headlines = list(set(headline_date_count[headline_date_count > 1].index.get_level_values(0)) - blacklist)\n",
    "for headline in headlines:\n",
    "    tweet_idx = df_tweets[df_tweets.headline == headline].index\n",
    "    assert tweet_idx.shape[0] > 1\n",
    "    df_tweets.loc[tweet_idx[1:], \"parent_tid\"] = tweet_idx[0]\n",
    "df_tweets[~df_tweets.parent_tid.isnull()].head()"
   ]
  },
  {
   "cell_type": "markdown",
   "metadata": {},
   "source": [
    "### Sub-headline"
   ]
  },
  {
   "cell_type": "code",
   "execution_count": 11,
   "metadata": {},
   "outputs": [
    {
     "data": {
      "text/html": [
       "<div>\n",
       "<style scoped>\n",
       "    .dataframe tbody tr th:only-of-type {\n",
       "        vertical-align: middle;\n",
       "    }\n",
       "\n",
       "    .dataframe tbody tr th {\n",
       "        vertical-align: top;\n",
       "    }\n",
       "\n",
       "    .dataframe thead th {\n",
       "        text-align: right;\n",
       "    }\n",
       "</style>\n",
       "<table border=\"1\" class=\"dataframe\">\n",
       "  <thead>\n",
       "    <tr style=\"text-align: right;\">\n",
       "      <th></th>\n",
       "      <th>date</th>\n",
       "      <th>headline</th>\n",
       "      <th>no_conversation</th>\n",
       "      <th>sub-headline</th>\n",
       "      <th>tags</th>\n",
       "    </tr>\n",
       "    <tr>\n",
       "      <th>tid</th>\n",
       "      <th></th>\n",
       "      <th></th>\n",
       "      <th></th>\n",
       "      <th></th>\n",
       "      <th></th>\n",
       "    </tr>\n",
       "  </thead>\n",
       "  <tbody>\n",
       "    <tr>\n",
       "      <th>1017750890583711744</th>\n",
       "      <td>2018-07-12</td>\n",
       "      <td>#UseR2018</td>\n",
       "      <td>False</td>\n",
       "      <td>R for Psychological Science?</td>\n",
       "      <td>[]</td>\n",
       "    </tr>\n",
       "    <tr>\n",
       "      <th>1017579549435912194</th>\n",
       "      <td>2018-07-12</td>\n",
       "      <td>#UseR2018</td>\n",
       "      <td>False</td>\n",
       "      <td>Keynote</td>\n",
       "      <td>[]</td>\n",
       "    </tr>\n",
       "    <tr>\n",
       "      <th>1018377414852767744</th>\n",
       "      <td>2018-07-12</td>\n",
       "      <td>#UseR2018</td>\n",
       "      <td>False</td>\n",
       "      <td>Keynote</td>\n",
       "      <td>[]</td>\n",
       "    </tr>\n",
       "    <tr>\n",
       "      <th>1017842613641269250</th>\n",
       "      <td>2018-07-12</td>\n",
       "      <td>#UseR2018</td>\n",
       "      <td>False</td>\n",
       "      <td>Keynote</td>\n",
       "      <td>[]</td>\n",
       "    </tr>\n",
       "    <tr>\n",
       "      <th>1017518220645986305</th>\n",
       "      <td>2018-07-12</td>\n",
       "      <td>#UseR2018</td>\n",
       "      <td>False</td>\n",
       "      <td>fasster</td>\n",
       "      <td>[]</td>\n",
       "    </tr>\n",
       "  </tbody>\n",
       "</table>\n",
       "</div>"
      ],
      "text/plain": [
       "                           date   headline  no_conversation  \\\n",
       "tid                                                           \n",
       "1017750890583711744  2018-07-12  #UseR2018            False   \n",
       "1017579549435912194  2018-07-12  #UseR2018            False   \n",
       "1018377414852767744  2018-07-12  #UseR2018            False   \n",
       "1017842613641269250  2018-07-12  #UseR2018            False   \n",
       "1017518220645986305  2018-07-12  #UseR2018            False   \n",
       "\n",
       "                                     sub-headline tags  \n",
       "tid                                                     \n",
       "1017750890583711744  R for Psychological Science?   []  \n",
       "1017579549435912194                       Keynote   []  \n",
       "1018377414852767744                       Keynote   []  \n",
       "1017842613641269250                       Keynote   []  \n",
       "1017518220645986305                       fasster   []  "
      ]
     },
     "execution_count": 11,
     "metadata": {},
     "output_type": "execute_result"
    }
   ],
   "source": [
    "df_tweets[df_tweets[\"headline\"] == \"#UseR2018\"]"
   ]
  },
  {
   "cell_type": "code",
   "execution_count": 12,
   "metadata": {},
   "outputs": [
    {
     "data": {
      "text/plain": [
       "Index(['Keynote', 'Bias', 'Gender', 'Crypto.ai', 'Ramen dishes',\n",
       "       '\"Director of AI\"', 'Automatic Essay Grading', 'Autopsy of a DL Paper',\n",
       "       'Ethics-related', 'GCP Slashing GPU Prices', 'Github and Open-source',\n",
       "       'Lebron Memes', 'Privacy Issues', 'Python 3.7',\n",
       "       'Science and Engineering', 'Scientists on Twitter', 'Thoughts',\n",
       "       'Thoughts', 'Thoughts on Facial Recognition', '“Soft Skills”', 'AI',\n",
       "       'Transfer Learning', 'OpenAI', 'Similarity Between NN Representations',\n",
       "       'Causal Models', 'GANs', 'Fair Classification', 'Duckietown',\n",
       "       'NIPS2018 Pommerman Competition', 'Reproducing papers',\n",
       "       'Compare GAN Code', 'CoordConv', 'DARTS',\n",
       "       'Differentiable Dynamic Programming', 'Dota (OpenAI)',\n",
       "       'Evaluating Feature Importance Estimates',\n",
       "       'Gradient Acceleration in Activation Functions',\n",
       "       'Guided Evolutionary Strategies', 'Meseauring Abstract Reasoning',\n",
       "       'ResNet with One-neuron Hidden Layers', 'SwitchNorm',\n",
       "       'Synthesizing Realistic High-Resolution Images',\n",
       "       'Tracking Emerges by Colorizing Videos', 'UMAP', '[dataviz] Slopegraph',\n",
       "       'Horovod', 'mybinder.org', 'Data Science Glossary', 'Debugging',\n",
       "       'Tensorflow', 'rstats', '#rstats', '#rstats', 'Jupyter', '#rstats',\n",
       "       'Coin Flip Simulation', 'Datasets', 'Datasets', 'Python', 'Python',\n",
       "       'gganimate', 'rstats', 'rstats', 'rstats', 'rstats', 'rstats', 'rstats',\n",
       "       'rstats', 'rstats', 'Analysis on @Ocasiao2018's Win', 'Global Rents',\n",
       "       'Value-suppressing Uncertainty Palette'],\n",
       "      dtype='object', name='sub-headline')"
      ]
     },
     "execution_count": 12,
     "metadata": {},
     "output_type": "execute_result"
    }
   ],
   "source": [
    "df_sub_headline = df_tweets[(df_tweets[\"sub-headline\"].str.len() > 0)]\n",
    "sub_headline_date_count = df_sub_headline.groupby([\"headline\", \"sub-headline\", \"date\"]).size()\n",
    "sub_headline_date_count[sub_headline_date_count > 1].index.get_level_values(1)"
   ]
  },
  {
   "cell_type": "code",
   "execution_count": 14,
   "metadata": {},
   "outputs": [
    {
     "data": {
      "text/plain": [
       "headline                 sub-headline                                   date      \n",
       "#UseR2018                Keynote                                        2018-07-12    3\n",
       "Ethics                   Bias                                           2018-06-13    3\n",
       "                         Gender                                         2018-06-13    4\n",
       "GAN                      Crypto.ai                                      2018-05-21    3\n",
       "                         Ramen dishes                                   2018-05-21    2\n",
       "Miscellaneous            \"Director of AI\"                               2018-05-29    3\n",
       "                         Automatic Essay Grading                        2018-07-01    2\n",
       "                         Autopsy of a DL Paper                          2018-07-16    4\n",
       "                         Ethics-related                                 2018-06-27    6\n",
       "                         GCP Slashing GPU Prices                        2018-06-18    2\n",
       "                         Github and Open-source                         2018-06-10    2\n",
       "                         Lebron Memes                                   2018-06-03    4\n",
       "                         Privacy Issues                                 2018-07-03    3\n",
       "                         Python 3.7                                     2018-06-27    2\n",
       "                         Science and Engineering                        2018-07-16    3\n",
       "                         Scientists on Twitter                          2018-06-29    3\n",
       "                         Thoughts on Facial Recognition                 2018-06-25    2\n",
       "                         “Soft Skills”                                  2018-06-12    2\n",
       "NLP                      Transfer Learning                              2018-05-21    2\n",
       "NLP Transfer Learning    OpenAI                                         2018-06-11    3\n",
       "Notable Research         Similarity Between NN Representations          2018-06-21    2\n",
       "Obfuscated gradients     Fair Classification                            2018-07-08    2\n",
       "Reinforcement Learning   Duckietown                                     2018-05-21    2\n",
       "                         NIPS2018 Pommerman Competition                 2018-05-21    2\n",
       "                         Reproducing papers                             2018-05-21    2\n",
       "Research                 Compare GAN Code                               2018-07-13    2\n",
       "                         CoordConv                                      2018-07-10    2\n",
       "                         DARTS                                          2018-06-26    3\n",
       "                         Differentiable Dynamic Programming             2018-07-10    2\n",
       "                         Dota (OpenAI)                                  2018-06-25    6\n",
       "                         Evaluating Feature Importance Estimates        2018-06-29    2\n",
       "                         Gradient Acceleration in Activation Functions  2018-07-01    2\n",
       "                         Guided Evolutionary Strategies                 2018-06-27    4\n",
       "                         Meseauring Abstract Reasoning                  2018-07-11    2\n",
       "                         ResNet with One-neuron Hidden Layers           2018-06-30    2\n",
       "                         SwitchNorm                                     2018-07-07    2\n",
       "                         Synthesizing Realistic High-Resolution Images  2018-07-09    2\n",
       "                         Tracking Emerges by Colorizing Videos          2018-06-26    2\n",
       "                         UMAP                                           2018-07-12    3\n",
       "Resources                [dataviz] Slopegraph                           2018-06-26    5\n",
       "Tools                    Horovod                                        2018-07-07    2\n",
       "                         mybinder.org                                   2018-07-13    2\n",
       "Tutorials                Data Science Glossary                          2018-07-09    2\n",
       "                         Debugging                                      2018-06-27    2\n",
       "                         Tensorflow                                     2018-06-26    2\n",
       "Tutorials / Tips         Jupyter                                        2018-07-10    2\n",
       "Tutorials and Resources  Coin Flip Simulation                           2018-06-17    3\n",
       "                         gganimate                                      2018-06-06    3\n",
       "Visualization            Analysis on @Ocasiao2018's Win                 2018-07-02    2\n",
       "                         Global Rents                                   2018-07-02    2\n",
       "                         Value-suppressing Uncertainty Palette          2018-07-04    2\n",
       "dtype: int64"
      ]
     },
     "execution_count": 14,
     "metadata": {},
     "output_type": "execute_result"
    }
   ],
   "source": [
    "blacklist = [\"#rstats\", \"rstats\", \"Python\", \"Datasets\", \"GANs\", \"AI\", \"Causal Models\", \"Thoughts\"]\n",
    "sub_headline_date_count = sub_headline_date_count[\n",
    "    (sub_headline_date_count > 1) & ([\n",
    "       x not in blacklist for x in sub_headline_date_count.index.get_level_values(1).tolist()])]\n",
    "sub_headline_date_count"
   ]
  },
  {
   "cell_type": "code",
   "execution_count": 15,
   "metadata": {},
   "outputs": [
    {
     "data": {
      "text/html": [
       "<div>\n",
       "<style scoped>\n",
       "    .dataframe tbody tr th:only-of-type {\n",
       "        vertical-align: middle;\n",
       "    }\n",
       "\n",
       "    .dataframe tbody tr th {\n",
       "        vertical-align: top;\n",
       "    }\n",
       "\n",
       "    .dataframe thead th {\n",
       "        text-align: right;\n",
       "    }\n",
       "</style>\n",
       "<table border=\"1\" class=\"dataframe\">\n",
       "  <thead>\n",
       "    <tr style=\"text-align: right;\">\n",
       "      <th></th>\n",
       "      <th>date</th>\n",
       "      <th>headline</th>\n",
       "      <th>no_conversation</th>\n",
       "      <th>sub-headline</th>\n",
       "      <th>tags</th>\n",
       "      <th>parent_tid</th>\n",
       "    </tr>\n",
       "    <tr>\n",
       "      <th>tid</th>\n",
       "      <th></th>\n",
       "      <th></th>\n",
       "      <th></th>\n",
       "      <th></th>\n",
       "      <th></th>\n",
       "      <th></th>\n",
       "    </tr>\n",
       "  </thead>\n",
       "  <tbody>\n",
       "    <tr>\n",
       "      <th>1009853749446172672</th>\n",
       "      <td>2018-06-21</td>\n",
       "      <td>Notable Research</td>\n",
       "      <td>False</td>\n",
       "      <td>Similarity Between NN Representations</td>\n",
       "      <td>[research]</td>\n",
       "      <td>1009848060963368964</td>\n",
       "    </tr>\n",
       "    <tr>\n",
       "      <th>1009445101788114945</th>\n",
       "      <td>2018-06-21</td>\n",
       "      <td>Resources</td>\n",
       "      <td>False</td>\n",
       "      <td>Gensim Doc2Vec Bug Fixed</td>\n",
       "      <td>[]</td>\n",
       "      <td>1009923776350474241</td>\n",
       "    </tr>\n",
       "    <tr>\n",
       "      <th>1009832281274322944</th>\n",
       "      <td>2018-06-21</td>\n",
       "      <td>Resources</td>\n",
       "      <td>False</td>\n",
       "      <td>Microsft Research Open Data</td>\n",
       "      <td>[research]</td>\n",
       "      <td>1009923776350474241</td>\n",
       "    </tr>\n",
       "    <tr>\n",
       "      <th>1009965708443291648</th>\n",
       "      <td>2018-06-21</td>\n",
       "      <td>Miscellanous</td>\n",
       "      <td>False</td>\n",
       "      <td>AI</td>\n",
       "      <td>[]</td>\n",
       "      <td>1009905083918712833</td>\n",
       "    </tr>\n",
       "    <tr>\n",
       "      <th>1009869167850209280</th>\n",
       "      <td>2018-06-21</td>\n",
       "      <td>Miscellanous</td>\n",
       "      <td>False</td>\n",
       "      <td>AI</td>\n",
       "      <td>[]</td>\n",
       "      <td>1009905083918712833</td>\n",
       "    </tr>\n",
       "  </tbody>\n",
       "</table>\n",
       "</div>"
      ],
      "text/plain": [
       "                           date          headline  no_conversation  \\\n",
       "tid                                                                  \n",
       "1009853749446172672  2018-06-21  Notable Research            False   \n",
       "1009445101788114945  2018-06-21         Resources            False   \n",
       "1009832281274322944  2018-06-21         Resources            False   \n",
       "1009965708443291648  2018-06-21      Miscellanous            False   \n",
       "1009869167850209280  2018-06-21      Miscellanous            False   \n",
       "\n",
       "                                              sub-headline        tags  \\\n",
       "tid                                                                      \n",
       "1009853749446172672  Similarity Between NN Representations  [research]   \n",
       "1009445101788114945               Gensim Doc2Vec Bug Fixed          []   \n",
       "1009832281274322944            Microsft Research Open Data  [research]   \n",
       "1009965708443291648                                     AI          []   \n",
       "1009869167850209280                                     AI          []   \n",
       "\n",
       "                              parent_tid  \n",
       "tid                                       \n",
       "1009853749446172672  1009848060963368964  \n",
       "1009445101788114945  1009923776350474241  \n",
       "1009832281274322944  1009923776350474241  \n",
       "1009965708443291648  1009905083918712833  \n",
       "1009869167850209280  1009905083918712833  "
      ]
     },
     "execution_count": 15,
     "metadata": {},
     "output_type": "execute_result"
    }
   ],
   "source": [
    "headlines = sub_headline_date_count.index.get_level_values(0).tolist()\n",
    "sub_headlines = sub_headline_date_count.index.get_level_values(1).tolist()\n",
    "for headline, sub_headlines in zip(headlines, sub_headlines):\n",
    "    tweet_idx = df_tweets[\n",
    "        (df_tweets.headline == headline) & (df_tweets[\"sub-headline\"] == sub_headlines)].index\n",
    "    assert tweet_idx.shape[0] > 1\n",
    "    df_tweets.loc[tweet_idx[1:], \"parent_tid\"] = tweet_idx[0]\n",
    "df_tweets[~df_tweets.parent_tid.isnull() & (df_tweets[\"sub-headline\"].str.len() > 0)].head()"
   ]
  },
  {
   "cell_type": "code",
   "execution_count": 16,
   "metadata": {},
   "outputs": [
    {
     "data": {
      "text/plain": [
       "18.913196894848273"
      ]
     },
     "execution_count": 16,
     "metadata": {},
     "output_type": "execute_result"
    }
   ],
   "source": [
    "df_tweets[~df_tweets.parent_tid.isnull()].shape[0] / df_tweets.shape[0] * 100"
   ]
  },
  {
   "cell_type": "code",
   "execution_count": 17,
   "metadata": {},
   "outputs": [
    {
     "data": {
      "text/plain": [
       "1417"
      ]
     },
     "execution_count": 17,
     "metadata": {},
     "output_type": "execute_result"
    }
   ],
   "source": [
    "df_tweets.shape[0]"
   ]
  },
  {
   "cell_type": "markdown",
   "metadata": {},
   "source": [
    "### Dump Results"
   ]
  },
  {
   "cell_type": "code",
   "execution_count": 18,
   "metadata": {
    "collapsed": true
   },
   "outputs": [],
   "source": [
    "df_tweets.reset_index().to_pickle(\"../tweets_extended.pkl\")"
   ]
  },
  {
   "cell_type": "markdown",
   "metadata": {},
   "source": [
    "## Visualize"
   ]
  },
  {
   "cell_type": "code",
   "execution_count": 19,
   "metadata": {},
   "outputs": [
    {
     "data": {
      "application/vnd.plotly.v1+json": {
       "data": [
        {
         "marker": {
          "color": [
           "rgba(222,45,38,0.8)",
           "rgba(204,204,204,1)",
           "rgba(204,204,204,1)",
           "rgba(204,204,204,1)",
           "rgba(204,204,204,1)",
           "rgba(204,204,204,1)",
           "rgba(222,45,38,0.8)",
           "rgba(222,45,38,0.8)",
           "rgba(204,204,204,1)",
           "rgba(204,204,204,1)",
           "rgba(204,204,204,1)",
           "rgba(204,204,204,1)",
           "rgba(204,204,204,1)",
           "rgba(222,45,38,0.8)",
           "rgba(222,45,38,0.8)",
           "rgba(204,204,204,1)",
           "rgba(204,204,204,1)",
           "rgba(204,204,204,1)",
           "rgba(204,204,204,1)",
           "rgba(204,204,204,1)",
           "rgba(222,45,38,0.8)",
           "rgba(222,45,38,0.8)",
           "rgba(204,204,204,1)",
           "rgba(204,204,204,1)",
           "rgba(204,204,204,1)",
           "rgba(204,204,204,1)",
           "rgba(204,204,204,1)",
           "rgba(222,45,38,0.8)",
           "rgba(222,45,38,0.8)",
           "rgba(204,204,204,1)",
           "rgba(204,204,204,1)",
           "rgba(204,204,204,1)",
           "rgba(204,204,204,1)",
           "rgba(204,204,204,1)",
           "rgba(222,45,38,0.8)",
           "rgba(222,45,38,0.8)",
           "rgba(204,204,204,1)",
           "rgba(204,204,204,1)",
           "rgba(204,204,204,1)",
           "rgba(204,204,204,1)",
           "rgba(204,204,204,1)",
           "rgba(222,45,38,0.8)",
           "rgba(222,45,38,0.8)",
           "rgba(204,204,204,1)",
           "rgba(204,204,204,1)",
           "rgba(204,204,204,1)",
           "rgba(204,204,204,1)",
           "rgba(204,204,204,1)",
           "rgba(222,45,38,0.8)",
           "rgba(222,45,38,0.8)",
           "rgba(204,204,204,1)",
           "rgba(204,204,204,1)",
           "rgba(204,204,204,1)",
           "rgba(204,204,204,1)",
           "rgba(204,204,204,1)",
           "rgba(222,45,38,0.8)",
           "rgba(222,45,38,0.8)",
           "rgba(204,204,204,1)",
           "rgba(204,204,204,1)"
          ]
         },
         "name": "Tweets",
         "type": "bar",
         "x": [
          "2018-05-20",
          "2018-05-21",
          "2018-05-22",
          "2018-05-23",
          "2018-05-24",
          "2018-05-25",
          "2018-05-26",
          "2018-05-27",
          "2018-05-28",
          "2018-05-29",
          "2018-05-30",
          "2018-05-31",
          "2018-06-01",
          "2018-06-02",
          "2018-06-03",
          "2018-06-04",
          "2018-06-05",
          "2018-06-06",
          "2018-06-07",
          "2018-06-08",
          "2018-06-09",
          "2018-06-10",
          "2018-06-11",
          "2018-06-12",
          "2018-06-13",
          "2018-06-14",
          "2018-06-15",
          "2018-06-16",
          "2018-06-17",
          "2018-06-18",
          "2018-06-19",
          "2018-06-20",
          "2018-06-21",
          "2018-06-22",
          "2018-06-23",
          "2018-06-24",
          "2018-06-25",
          "2018-06-26",
          "2018-06-27",
          "2018-06-28",
          "2018-06-29",
          "2018-06-30",
          "2018-07-01",
          "2018-07-02",
          "2018-07-03",
          "2018-07-04",
          "2018-07-05",
          "2018-07-06",
          "2018-07-07",
          "2018-07-08",
          "2018-07-09",
          "2018-07-10",
          "2018-07-11",
          "2018-07-12",
          "2018-07-13",
          "2018-07-14",
          "2018-07-15",
          "2018-07-16",
          "2018-07-17"
         ],
         "y": [
          12,
          29,
          32,
          13,
          22,
          17,
          16,
          17,
          22,
          36,
          29,
          27,
          47,
          42,
          28,
          44,
          31,
          27,
          26,
          19,
          15,
          14,
          35,
          28,
          47,
          29,
          24,
          16,
          19,
          37,
          27,
          30,
          36,
          18,
          13,
          15,
          34,
          41,
          30,
          19,
          22,
          22,
          16,
          23,
          30,
          26,
          19,
          9,
          18,
          20,
          18,
          27,
          20,
          29,
          13,
          10,
          9,
          18,
          5
         ]
        }
       ],
       "layout": {
        "autosize": false,
        "height": 300,
        "margin": {
         "b": 50,
         "t": 50
        },
        "title": "# of Collected Tweets per Day",
        "width": 900
       }
      },
      "text/html": [
       "<div id=\"5f31fc29-49eb-4207-be82-05f0a491d278\" style=\"height: 300px; width: 900px;\" class=\"plotly-graph-div\"></div><script type=\"text/javascript\">require([\"plotly\"], function(Plotly) { window.PLOTLYENV=window.PLOTLYENV || {};window.PLOTLYENV.BASE_URL=\"https://plot.ly\";Plotly.newPlot(\"5f31fc29-49eb-4207-be82-05f0a491d278\", [{\"type\": \"bar\", \"x\": [\"2018-05-20\", \"2018-05-21\", \"2018-05-22\", \"2018-05-23\", \"2018-05-24\", \"2018-05-25\", \"2018-05-26\", \"2018-05-27\", \"2018-05-28\", \"2018-05-29\", \"2018-05-30\", \"2018-05-31\", \"2018-06-01\", \"2018-06-02\", \"2018-06-03\", \"2018-06-04\", \"2018-06-05\", \"2018-06-06\", \"2018-06-07\", \"2018-06-08\", \"2018-06-09\", \"2018-06-10\", \"2018-06-11\", \"2018-06-12\", \"2018-06-13\", \"2018-06-14\", \"2018-06-15\", \"2018-06-16\", \"2018-06-17\", \"2018-06-18\", \"2018-06-19\", \"2018-06-20\", \"2018-06-21\", \"2018-06-22\", \"2018-06-23\", \"2018-06-24\", \"2018-06-25\", \"2018-06-26\", \"2018-06-27\", \"2018-06-28\", \"2018-06-29\", \"2018-06-30\", \"2018-07-01\", \"2018-07-02\", \"2018-07-03\", \"2018-07-04\", \"2018-07-05\", \"2018-07-06\", \"2018-07-07\", \"2018-07-08\", \"2018-07-09\", \"2018-07-10\", \"2018-07-11\", \"2018-07-12\", \"2018-07-13\", \"2018-07-14\", \"2018-07-15\", \"2018-07-16\", \"2018-07-17\"], \"y\": [12, 29, 32, 13, 22, 17, 16, 17, 22, 36, 29, 27, 47, 42, 28, 44, 31, 27, 26, 19, 15, 14, 35, 28, 47, 29, 24, 16, 19, 37, 27, 30, 36, 18, 13, 15, 34, 41, 30, 19, 22, 22, 16, 23, 30, 26, 19, 9, 18, 20, 18, 27, 20, 29, 13, 10, 9, 18, 5], \"marker\": {\"color\": [\"rgba(222,45,38,0.8)\", \"rgba(204,204,204,1)\", \"rgba(204,204,204,1)\", \"rgba(204,204,204,1)\", \"rgba(204,204,204,1)\", \"rgba(204,204,204,1)\", \"rgba(222,45,38,0.8)\", \"rgba(222,45,38,0.8)\", \"rgba(204,204,204,1)\", \"rgba(204,204,204,1)\", \"rgba(204,204,204,1)\", \"rgba(204,204,204,1)\", \"rgba(204,204,204,1)\", \"rgba(222,45,38,0.8)\", \"rgba(222,45,38,0.8)\", \"rgba(204,204,204,1)\", \"rgba(204,204,204,1)\", \"rgba(204,204,204,1)\", \"rgba(204,204,204,1)\", \"rgba(204,204,204,1)\", \"rgba(222,45,38,0.8)\", \"rgba(222,45,38,0.8)\", \"rgba(204,204,204,1)\", \"rgba(204,204,204,1)\", \"rgba(204,204,204,1)\", \"rgba(204,204,204,1)\", \"rgba(204,204,204,1)\", \"rgba(222,45,38,0.8)\", \"rgba(222,45,38,0.8)\", \"rgba(204,204,204,1)\", \"rgba(204,204,204,1)\", \"rgba(204,204,204,1)\", \"rgba(204,204,204,1)\", \"rgba(204,204,204,1)\", \"rgba(222,45,38,0.8)\", \"rgba(222,45,38,0.8)\", \"rgba(204,204,204,1)\", \"rgba(204,204,204,1)\", \"rgba(204,204,204,1)\", \"rgba(204,204,204,1)\", \"rgba(204,204,204,1)\", \"rgba(222,45,38,0.8)\", \"rgba(222,45,38,0.8)\", \"rgba(204,204,204,1)\", \"rgba(204,204,204,1)\", \"rgba(204,204,204,1)\", \"rgba(204,204,204,1)\", \"rgba(204,204,204,1)\", \"rgba(222,45,38,0.8)\", \"rgba(222,45,38,0.8)\", \"rgba(204,204,204,1)\", \"rgba(204,204,204,1)\", \"rgba(204,204,204,1)\", \"rgba(204,204,204,1)\", \"rgba(204,204,204,1)\", \"rgba(222,45,38,0.8)\", \"rgba(222,45,38,0.8)\", \"rgba(204,204,204,1)\", \"rgba(204,204,204,1)\"]}, \"name\": \"Tweets\"}], {\"title\": \"# of Collected Tweets per Day\", \"autosize\": false, \"width\": 900, \"height\": 300, \"margin\": {\"b\": 50, \"t\": 50}}, {\"showLink\": true, \"linkText\": \"Export to plot.ly\"})});</script>"
      ],
      "text/vnd.plotly.v1+html": [
       "<div id=\"5f31fc29-49eb-4207-be82-05f0a491d278\" style=\"height: 300px; width: 900px;\" class=\"plotly-graph-div\"></div><script type=\"text/javascript\">require([\"plotly\"], function(Plotly) { window.PLOTLYENV=window.PLOTLYENV || {};window.PLOTLYENV.BASE_URL=\"https://plot.ly\";Plotly.newPlot(\"5f31fc29-49eb-4207-be82-05f0a491d278\", [{\"type\": \"bar\", \"x\": [\"2018-05-20\", \"2018-05-21\", \"2018-05-22\", \"2018-05-23\", \"2018-05-24\", \"2018-05-25\", \"2018-05-26\", \"2018-05-27\", \"2018-05-28\", \"2018-05-29\", \"2018-05-30\", \"2018-05-31\", \"2018-06-01\", \"2018-06-02\", \"2018-06-03\", \"2018-06-04\", \"2018-06-05\", \"2018-06-06\", \"2018-06-07\", \"2018-06-08\", \"2018-06-09\", \"2018-06-10\", \"2018-06-11\", \"2018-06-12\", \"2018-06-13\", \"2018-06-14\", \"2018-06-15\", \"2018-06-16\", \"2018-06-17\", \"2018-06-18\", \"2018-06-19\", \"2018-06-20\", \"2018-06-21\", \"2018-06-22\", \"2018-06-23\", \"2018-06-24\", \"2018-06-25\", \"2018-06-26\", \"2018-06-27\", \"2018-06-28\", \"2018-06-29\", \"2018-06-30\", \"2018-07-01\", \"2018-07-02\", \"2018-07-03\", \"2018-07-04\", \"2018-07-05\", \"2018-07-06\", \"2018-07-07\", \"2018-07-08\", \"2018-07-09\", \"2018-07-10\", \"2018-07-11\", \"2018-07-12\", \"2018-07-13\", \"2018-07-14\", \"2018-07-15\", \"2018-07-16\", \"2018-07-17\"], \"y\": [12, 29, 32, 13, 22, 17, 16, 17, 22, 36, 29, 27, 47, 42, 28, 44, 31, 27, 26, 19, 15, 14, 35, 28, 47, 29, 24, 16, 19, 37, 27, 30, 36, 18, 13, 15, 34, 41, 30, 19, 22, 22, 16, 23, 30, 26, 19, 9, 18, 20, 18, 27, 20, 29, 13, 10, 9, 18, 5], \"marker\": {\"color\": [\"rgba(222,45,38,0.8)\", \"rgba(204,204,204,1)\", \"rgba(204,204,204,1)\", \"rgba(204,204,204,1)\", \"rgba(204,204,204,1)\", \"rgba(204,204,204,1)\", \"rgba(222,45,38,0.8)\", \"rgba(222,45,38,0.8)\", \"rgba(204,204,204,1)\", \"rgba(204,204,204,1)\", \"rgba(204,204,204,1)\", \"rgba(204,204,204,1)\", \"rgba(204,204,204,1)\", \"rgba(222,45,38,0.8)\", \"rgba(222,45,38,0.8)\", \"rgba(204,204,204,1)\", \"rgba(204,204,204,1)\", \"rgba(204,204,204,1)\", \"rgba(204,204,204,1)\", \"rgba(204,204,204,1)\", \"rgba(222,45,38,0.8)\", \"rgba(222,45,38,0.8)\", \"rgba(204,204,204,1)\", \"rgba(204,204,204,1)\", \"rgba(204,204,204,1)\", \"rgba(204,204,204,1)\", \"rgba(204,204,204,1)\", \"rgba(222,45,38,0.8)\", \"rgba(222,45,38,0.8)\", \"rgba(204,204,204,1)\", \"rgba(204,204,204,1)\", \"rgba(204,204,204,1)\", \"rgba(204,204,204,1)\", \"rgba(204,204,204,1)\", \"rgba(222,45,38,0.8)\", \"rgba(222,45,38,0.8)\", \"rgba(204,204,204,1)\", \"rgba(204,204,204,1)\", \"rgba(204,204,204,1)\", \"rgba(204,204,204,1)\", \"rgba(204,204,204,1)\", \"rgba(222,45,38,0.8)\", \"rgba(222,45,38,0.8)\", \"rgba(204,204,204,1)\", \"rgba(204,204,204,1)\", \"rgba(204,204,204,1)\", \"rgba(204,204,204,1)\", \"rgba(204,204,204,1)\", \"rgba(222,45,38,0.8)\", \"rgba(222,45,38,0.8)\", \"rgba(204,204,204,1)\", \"rgba(204,204,204,1)\", \"rgba(204,204,204,1)\", \"rgba(204,204,204,1)\", \"rgba(204,204,204,1)\", \"rgba(222,45,38,0.8)\", \"rgba(222,45,38,0.8)\", \"rgba(204,204,204,1)\", \"rgba(204,204,204,1)\"]}, \"name\": \"Tweets\"}], {\"title\": \"# of Collected Tweets per Day\", \"autosize\": false, \"width\": 900, \"height\": 300, \"margin\": {\"b\": 50, \"t\": 50}}, {\"showLink\": true, \"linkText\": \"Export to plot.ly\"})});</script>"
      ]
     },
     "metadata": {},
     "output_type": "display_data"
    }
   ],
   "source": [
    "tweets_by_date = df_tweets.groupby(\"date\").size()\n",
    "data = [\n",
    "    go.Bar(\n",
    "        x=tweets_by_date.index.tolist(),\n",
    "        y=tweets_by_date.values,\n",
    "        marker=dict(\n",
    "            color=[\n",
    "                'rgba(222,45,38,0.8)' if d.weekday() > 4 else 'rgba(204,204,204,1)'\n",
    "                for d in tweets_by_date.index.tolist()\n",
    "            ]\n",
    "        ),\n",
    "        name='Tweets'       \n",
    "    )  \n",
    "]\n",
    "layout = go.Layout(\n",
    "    title='# of Collected Tweets per Day',\n",
    "    autosize=False,\n",
    "    width=900,\n",
    "    height=300,\n",
    "    margin=go.Margin(\n",
    "    #     l=50,\n",
    "    #     r=50,\n",
    "      b=50,\n",
    "      t=50,\n",
    "    #     pad=4\n",
    "    )\n",
    ")\n",
    "fig = go.Figure(data=data, layout=layout)\n",
    "plotly.offline.iplot(fig)"
   ]
  },
  {
   "cell_type": "markdown",
   "metadata": {
    "collapsed": true
   },
   "source": [
    "## Collect oembed"
   ]
  },
  {
   "cell_type": "code",
   "execution_count": 20,
   "metadata": {},
   "outputs": [
    {
     "data": {
      "text/plain": [
       "<Response [200]>"
      ]
     },
     "execution_count": 20,
     "metadata": {},
     "output_type": "execute_result"
    }
   ],
   "source": [
    "endpoint = \"https://api.twitter.com/1.1/statuses/oembed.json?id={tid}&omit_script=0&maxwidth=500\"\n",
    "res = requests.get(endpoint.format(tid=df_tweets.index[0]))\n",
    "res"
   ]
  },
  {
   "cell_type": "code",
   "execution_count": 21,
   "metadata": {},
   "outputs": [
    {
     "data": {
      "text/plain": [
       "{'author_name': 'Nando de Freitas',\n",
       " 'author_url': 'https://twitter.com/NandoDF',\n",
       " 'cache_age': '3153600000',\n",
       " 'height': None,\n",
       " 'html': '<blockquote class=\"twitter-tweet\" data-width=\"500\"><p lang=\"en\" dir=\"ltr\">Generative design —- this could be promising, and certainly fun <a href=\"https://t.co/mFoUT1LA1P\">https://t.co/mFoUT1LA1P</a></p>&mdash; Nando de Freitas (@NandoDF) <a href=\"https://twitter.com/NandoDF/status/1009921622801776640?ref_src=twsrc%5Etfw\">June 21, 2018</a></blockquote>\\n<script async src=\"https://platform.twitter.com/widgets.js\" charset=\"utf-8\"></script>\\n',\n",
       " 'provider_name': 'Twitter',\n",
       " 'provider_url': 'https://twitter.com',\n",
       " 'type': 'rich',\n",
       " 'url': 'https://twitter.com/NandoDF/status/1009921622801776640',\n",
       " 'version': '1.0',\n",
       " 'width': 500}"
      ]
     },
     "execution_count": 21,
     "metadata": {},
     "output_type": "execute_result"
    }
   ],
   "source": [
    "res = res.json()\n",
    "res"
   ]
  },
  {
   "cell_type": "code",
   "execution_count": 22,
   "metadata": {},
   "outputs": [
    {
     "data": {
      "text/plain": [
       "'<p dir=\"ltr\" lang=\"en\">Generative design —- this could be promising, and certainly fun <a href=\"https://t.co/mFoUT1LA1P\">https://t.co/mFoUT1LA1P</a></p> — Nando de Freitas (@NandoDF)  <a href=\"https://twitter.com/NandoDF/status/1009921622801776640?ref_src=twsrc%5Etfw\">June 21, 2018</a>'"
      ]
     },
     "execution_count": 22,
     "metadata": {},
     "output_type": "execute_result"
    }
   ],
   "source": [
    "bs = BeautifulSoup(res[\"html\"], \"html.parser\")\n",
    "\" \".join([str(x) for x in bs.find(\"blockquote\").children])"
   ]
  },
  {
   "cell_type": "code",
   "execution_count": 23,
   "metadata": {
    "collapsed": true
   },
   "outputs": [],
   "source": [
    "def collect_oembed(tid):\n",
    "    res = requests.get(endpoint.format(tid=tid)).json()\n",
    "    if \"html\" not in res:\n",
    "        print(tid, res)\n",
    "        return None\n",
    "    res = res[\"html\"]\n",
    "    bs = BeautifulSoup(res, \"html.parser\")\n",
    "    return \" \".join([str(x) for x in bs.find(\"blockquote\").children])"
   ]
  },
  {
   "cell_type": "code",
   "execution_count": 24,
   "metadata": {},
   "outputs": [
    {
     "data": {
      "application/vnd.jupyter.widget-view+json": {
       "model_id": "59b8363b3d0443eaae7afc5196e7ca6d",
       "version_major": 2,
       "version_minor": 0
      },
      "text/plain": [
       "HBox(children=(IntProgress(value=0, max=1417), HTML(value='')))"
      ]
     },
     "metadata": {},
     "output_type": "display_data"
    },
    {
     "name": "stdout",
     "output_type": "stream",
     "text": [
      "1006227429315076098 {'errors': [{'message': 'Sorry, that page does not exist', 'code': 34}]}\n",
      "988796688402759683 {'errors': [{'message': 'Sorry, that page does not exist', 'code': 34}]}\n",
      "1012328835293929472 {'errors': [{'message': 'Sorry, that page does not exist', 'code': 34}]}\n",
      "1008697843979255808 {'errors': [{'message': 'Sorry, that page does not exist', 'code': 34}]}\n",
      "1012063547130597376 {'errors': [{'message': 'Sorry, that page does not exist', 'code': 34}]}\n",
      "1004142020363997185 {'errors': [{'message': 'Sorry, that page does not exist', 'code': 34}]}\n",
      "1003411204402864128 {'errors': [{'message': 'Sorry, that page does not exist', 'code': 34}]}\n",
      "1002890192372551685 {'errors': [{'message': 'Sorry, that page does not exist', 'code': 34}]}\n",
      "1014169647103475712 {'errors': [{'message': 'Sorry, that page does not exist', 'code': 34}]}\n",
      "1003820989443026944 {'errors': [{'message': 'Sorry, that page does not exist', 'code': 34}]}\n",
      "1010048143403208704 {'errors': [{'message': 'Sorry, that page does not exist', 'code': 34}]}\n",
      "\n"
     ]
    }
   ],
   "source": [
    "oembeds = Parallel(n_jobs=8)(delayed(collect_oembed)(tid) for tid in tqdm_notebook(df_tweets.index.tolist()))"
   ]
  },
  {
   "cell_type": "code",
   "execution_count": 25,
   "metadata": {},
   "outputs": [
    {
     "data": {
      "text/html": [
       "<div>\n",
       "<style scoped>\n",
       "    .dataframe tbody tr th:only-of-type {\n",
       "        vertical-align: middle;\n",
       "    }\n",
       "\n",
       "    .dataframe tbody tr th {\n",
       "        vertical-align: top;\n",
       "    }\n",
       "\n",
       "    .dataframe thead th {\n",
       "        text-align: right;\n",
       "    }\n",
       "</style>\n",
       "<table border=\"1\" class=\"dataframe\">\n",
       "  <thead>\n",
       "    <tr style=\"text-align: right;\">\n",
       "      <th></th>\n",
       "      <th>date</th>\n",
       "      <th>headline</th>\n",
       "      <th>no_conversation</th>\n",
       "      <th>sub-headline</th>\n",
       "      <th>tags</th>\n",
       "      <th>parent_tid</th>\n",
       "      <th>oembed</th>\n",
       "    </tr>\n",
       "    <tr>\n",
       "      <th>tid</th>\n",
       "      <th></th>\n",
       "      <th></th>\n",
       "      <th></th>\n",
       "      <th></th>\n",
       "      <th></th>\n",
       "      <th></th>\n",
       "      <th></th>\n",
       "    </tr>\n",
       "  </thead>\n",
       "  <tbody>\n",
       "    <tr>\n",
       "      <th>1006916255926845440</th>\n",
       "      <td>2018-06-13</td>\n",
       "      <td>Ethics</td>\n",
       "      <td>False</td>\n",
       "      <td>Gender</td>\n",
       "      <td>[ethics]</td>\n",
       "      <td>1006951012299608066</td>\n",
       "      <td>&lt;p dir=\"ltr\" lang=\"en\"&gt;this is by far the best...</td>\n",
       "    </tr>\n",
       "  </tbody>\n",
       "</table>\n",
       "</div>"
      ],
      "text/plain": [
       "                           date headline  no_conversation sub-headline  \\\n",
       "tid                                                                      \n",
       "1006916255926845440  2018-06-13   Ethics            False       Gender   \n",
       "\n",
       "                         tags           parent_tid  \\\n",
       "tid                                                  \n",
       "1006916255926845440  [ethics]  1006951012299608066   \n",
       "\n",
       "                                                                oembed  \n",
       "tid                                                                     \n",
       "1006916255926845440  <p dir=\"ltr\" lang=\"en\">this is by far the best...  "
      ]
     },
     "execution_count": 25,
     "metadata": {},
     "output_type": "execute_result"
    }
   ],
   "source": [
    "df_tweets[\"oembed\"] = oembeds\n",
    "df_tweets.sample()"
   ]
  },
  {
   "cell_type": "code",
   "execution_count": 26,
   "metadata": {},
   "outputs": [
    {
     "data": {
      "text/html": [
       "<div>\n",
       "<style scoped>\n",
       "    .dataframe tbody tr th:only-of-type {\n",
       "        vertical-align: middle;\n",
       "    }\n",
       "\n",
       "    .dataframe tbody tr th {\n",
       "        vertical-align: top;\n",
       "    }\n",
       "\n",
       "    .dataframe thead th {\n",
       "        text-align: right;\n",
       "    }\n",
       "</style>\n",
       "<table border=\"1\" class=\"dataframe\">\n",
       "  <thead>\n",
       "    <tr style=\"text-align: right;\">\n",
       "      <th></th>\n",
       "      <th>date</th>\n",
       "      <th>headline</th>\n",
       "      <th>no_conversation</th>\n",
       "      <th>sub-headline</th>\n",
       "      <th>tags</th>\n",
       "      <th>parent_tid</th>\n",
       "      <th>oembed</th>\n",
       "    </tr>\n",
       "    <tr>\n",
       "      <th>tid</th>\n",
       "      <th></th>\n",
       "      <th></th>\n",
       "      <th></th>\n",
       "      <th></th>\n",
       "      <th></th>\n",
       "      <th></th>\n",
       "      <th></th>\n",
       "    </tr>\n",
       "  </thead>\n",
       "  <tbody>\n",
       "    <tr>\n",
       "      <th>1006227429315076098</th>\n",
       "      <td>2018-06-11</td>\n",
       "      <td>Tutorials and Resources</td>\n",
       "      <td>False</td>\n",
       "      <td></td>\n",
       "      <td>[learning, tutorial]</td>\n",
       "      <td>NaN</td>\n",
       "      <td>None</td>\n",
       "    </tr>\n",
       "    <tr>\n",
       "      <th>988796688402759683</th>\n",
       "      <td>2018-05-27</td>\n",
       "      <td>Miscellaneous</td>\n",
       "      <td>False</td>\n",
       "      <td></td>\n",
       "      <td>[misc]</td>\n",
       "      <td>NaN</td>\n",
       "      <td>None</td>\n",
       "    </tr>\n",
       "    <tr>\n",
       "      <th>1012328835293929472</th>\n",
       "      <td>2018-06-28</td>\n",
       "      <td>Miscellaneous</td>\n",
       "      <td>False</td>\n",
       "      <td></td>\n",
       "      <td>[misc]</td>\n",
       "      <td>NaN</td>\n",
       "      <td>None</td>\n",
       "    </tr>\n",
       "    <tr>\n",
       "      <th>1008697843979255808</th>\n",
       "      <td>2018-06-18</td>\n",
       "      <td>Miscellaneous</td>\n",
       "      <td>False</td>\n",
       "      <td></td>\n",
       "      <td>[misc]</td>\n",
       "      <td>NaN</td>\n",
       "      <td>None</td>\n",
       "    </tr>\n",
       "    <tr>\n",
       "      <th>1012063547130597376</th>\n",
       "      <td>2018-06-26</td>\n",
       "      <td>Resources</td>\n",
       "      <td>False</td>\n",
       "      <td>[dataviz] Slopegraph</td>\n",
       "      <td>[dataviz]</td>\n",
       "      <td>1011632322872074241</td>\n",
       "      <td>None</td>\n",
       "    </tr>\n",
       "    <tr>\n",
       "      <th>1004142020363997185</th>\n",
       "      <td>2018-06-05</td>\n",
       "      <td>[ethics] Facebook Sharing Data</td>\n",
       "      <td>False</td>\n",
       "      <td></td>\n",
       "      <td>[ethics]</td>\n",
       "      <td>1004180231299780609</td>\n",
       "      <td>None</td>\n",
       "    </tr>\n",
       "    <tr>\n",
       "      <th>1003411204402864128</th>\n",
       "      <td>2018-06-03</td>\n",
       "      <td>Microsoft Buys Github</td>\n",
       "      <td>False</td>\n",
       "      <td></td>\n",
       "      <td>[]</td>\n",
       "      <td>430871267881672704</td>\n",
       "      <td>None</td>\n",
       "    </tr>\n",
       "    <tr>\n",
       "      <th>1002890192372551685</th>\n",
       "      <td>2018-06-02</td>\n",
       "      <td>Tutorials and Resources</td>\n",
       "      <td>False</td>\n",
       "      <td></td>\n",
       "      <td>[learning, tutorial]</td>\n",
       "      <td>NaN</td>\n",
       "      <td>None</td>\n",
       "    </tr>\n",
       "    <tr>\n",
       "      <th>1014169647103475712</th>\n",
       "      <td>2018-07-04</td>\n",
       "      <td>Research</td>\n",
       "      <td>False</td>\n",
       "      <td>Adversarial Reprogramming of NN</td>\n",
       "      <td>[research]</td>\n",
       "      <td>NaN</td>\n",
       "      <td>None</td>\n",
       "    </tr>\n",
       "    <tr>\n",
       "      <th>1003820989443026944</th>\n",
       "      <td>2018-06-04</td>\n",
       "      <td>Miscellaneous</td>\n",
       "      <td>False</td>\n",
       "      <td></td>\n",
       "      <td>[misc]</td>\n",
       "      <td>NaN</td>\n",
       "      <td>None</td>\n",
       "    </tr>\n",
       "    <tr>\n",
       "      <th>1010048143403208704</th>\n",
       "      <td>2018-06-22</td>\n",
       "      <td>Resources</td>\n",
       "      <td>False</td>\n",
       "      <td></td>\n",
       "      <td>[]</td>\n",
       "      <td>1009923776350474241</td>\n",
       "      <td>None</td>\n",
       "    </tr>\n",
       "  </tbody>\n",
       "</table>\n",
       "</div>"
      ],
      "text/plain": [
       "                           date                        headline  \\\n",
       "tid                                                               \n",
       "1006227429315076098  2018-06-11         Tutorials and Resources   \n",
       "988796688402759683   2018-05-27                   Miscellaneous   \n",
       "1012328835293929472  2018-06-28                   Miscellaneous   \n",
       "1008697843979255808  2018-06-18                   Miscellaneous   \n",
       "1012063547130597376  2018-06-26                       Resources   \n",
       "1004142020363997185  2018-06-05  [ethics] Facebook Sharing Data   \n",
       "1003411204402864128  2018-06-03           Microsoft Buys Github   \n",
       "1002890192372551685  2018-06-02         Tutorials and Resources   \n",
       "1014169647103475712  2018-07-04                        Research   \n",
       "1003820989443026944  2018-06-04                   Miscellaneous   \n",
       "1010048143403208704  2018-06-22                       Resources   \n",
       "\n",
       "                     no_conversation                     sub-headline  \\\n",
       "tid                                                                     \n",
       "1006227429315076098            False                                    \n",
       "988796688402759683             False                                    \n",
       "1012328835293929472            False                                    \n",
       "1008697843979255808            False                                    \n",
       "1012063547130597376            False             [dataviz] Slopegraph   \n",
       "1004142020363997185            False                                    \n",
       "1003411204402864128            False                                    \n",
       "1002890192372551685            False                                    \n",
       "1014169647103475712            False  Adversarial Reprogramming of NN   \n",
       "1003820989443026944            False                                    \n",
       "1010048143403208704            False                                    \n",
       "\n",
       "                                     tags           parent_tid oembed  \n",
       "tid                                                                    \n",
       "1006227429315076098  [learning, tutorial]                  NaN   None  \n",
       "988796688402759683                 [misc]                  NaN   None  \n",
       "1012328835293929472                [misc]                  NaN   None  \n",
       "1008697843979255808                [misc]                  NaN   None  \n",
       "1012063547130597376             [dataviz]  1011632322872074241   None  \n",
       "1004142020363997185              [ethics]  1004180231299780609   None  \n",
       "1003411204402864128                    []   430871267881672704   None  \n",
       "1002890192372551685  [learning, tutorial]                  NaN   None  \n",
       "1014169647103475712            [research]                  NaN   None  \n",
       "1003820989443026944                [misc]                  NaN   None  \n",
       "1010048143403208704                    []  1009923776350474241   None  "
      ]
     },
     "execution_count": 26,
     "metadata": {},
     "output_type": "execute_result"
    }
   ],
   "source": [
    "df_tweets[df_tweets.oembed.isnull()]"
   ]
  },
  {
   "cell_type": "code",
   "execution_count": 27,
   "metadata": {
    "collapsed": true
   },
   "outputs": [],
   "source": [
    "## Dump Results\n",
    "df_tweets.reset_index().to_pickle(\"../tweets_extended.pkl\")"
   ]
  },
  {
   "cell_type": "markdown",
   "metadata": {},
   "source": [
    "## Collect More Information"
   ]
  },
  {
   "cell_type": "code",
   "execution_count": 39,
   "metadata": {
    "collapsed": true
   },
   "outputs": [],
   "source": [
    "df_tweets = pd.read_pickle(\"../tweets_extended.pkl\").set_index(\"tid\")"
   ]
  },
  {
   "cell_type": "code",
   "execution_count": 46,
   "metadata": {
    "collapsed": true
   },
   "outputs": [],
   "source": [
    "from credentials import *\n",
    "import twitter\n",
    "if os.environ.get(\"LOCAL\", False):\n",
    "    PROXIES = dict(http='socks5://192.168.199.10:12133',\n",
    "                   https='socks5://192.168.199.10:12133')\n",
    "else:\n",
    "    PROXIES = None\n",
    "API = twitter.Api(\n",
    "    consumer_key=CONSUMER_KEY,\n",
    "    consumer_secret=CONSUMER_SECRET,\n",
    "    access_token_key=ACCESS_TOKEN,\n",
    "    access_token_secret=ACCESS_TOKEN_SECRET,\n",
    "    tweet_mode=\"extended\",\n",
    "    proxies=PROXIES,\n",
    "    sleep_on_rate_limit=True\n",
    ")"
   ]
  },
  {
   "cell_type": "code",
   "execution_count": 47,
   "metadata": {
    "collapsed": true
   },
   "outputs": [],
   "source": [
    "API.InitializeRateLimit()"
   ]
  },
  {
   "cell_type": "code",
   "execution_count": 48,
   "metadata": {},
   "outputs": [
    {
     "data": {
      "text/plain": [
       "EndpointRateLimit(limit=900, remaining=616, reset=1532361210)"
      ]
     },
     "execution_count": 48,
     "metadata": {},
     "output_type": "execute_result"
    }
   ],
   "source": [
    "API.rate_limit.get_limit(\"/statuses/show/:id\")"
   ]
  },
  {
   "cell_type": "code",
   "execution_count": 49,
   "metadata": {
    "collapsed": true
   },
   "outputs": [],
   "source": [
    "tmp = API.GetStatus(df_tweets.index[0])"
   ]
  },
  {
   "cell_type": "code",
   "execution_count": 25,
   "metadata": {},
   "outputs": [
    {
     "data": {
      "text/plain": [
       "'Generative design —- this could be promising, and certainly fun https://t.co/mFoUT1LA1P'"
      ]
     },
     "execution_count": 25,
     "metadata": {},
     "output_type": "execute_result"
    }
   ],
   "source": [
    "tmp.full_text"
   ]
  },
  {
   "cell_type": "code",
   "execution_count": 26,
   "metadata": {},
   "outputs": [
    {
     "data": {
      "text/plain": [
       "1529619052"
      ]
     },
     "execution_count": 26,
     "metadata": {},
     "output_type": "execute_result"
    }
   ],
   "source": [
    "tmp.created_at_in_seconds"
   ]
  },
  {
   "cell_type": "code",
   "execution_count": 27,
   "metadata": {},
   "outputs": [
    {
     "data": {
      "text/plain": [
       "User(ID=29843511, ScreenName=NandoDF)"
      ]
     },
     "execution_count": 27,
     "metadata": {},
     "output_type": "execute_result"
    }
   ],
   "source": [
    "tmp.user"
   ]
  },
  {
   "cell_type": "code",
   "execution_count": 53,
   "metadata": {},
   "outputs": [
    {
     "data": {
      "application/vnd.jupyter.widget-view+json": {
       "model_id": "89e5d59f36a74464aa6e0d9c90012207",
       "version_major": 2,
       "version_minor": 0
      },
      "text/plain": [
       "HBox(children=(IntProgress(value=0, max=1417), HTML(value='')))"
      ]
     },
     "metadata": {},
     "output_type": "display_data"
    },
    {
     "name": "stdout",
     "output_type": "stream",
     "text": [
      "\n"
     ]
    },
    {
     "name": "stderr",
     "output_type": "stream",
     "text": [
      "Exception in thread Thread-9:\n",
      "Traceback (most recent call last):\n",
      "  File \"/home/ceshine/miniconda3/envs/deep/lib/python3.6/threading.py\", line 916, in _bootstrap_inner\n",
      "    self.run()\n",
      "  File \"/home/ceshine/miniconda3/envs/deep/lib/python3.6/site-packages/tqdm/_monitor.py\", line 63, in run\n",
      "    for instance in self.tqdm_cls._instances:\n",
      "  File \"/home/ceshine/miniconda3/envs/deep/lib/python3.6/_weakrefset.py\", line 60, in __iter__\n",
      "    for itemref in self.data:\n",
      "RuntimeError: Set changed size during iteration\n",
      "\n"
     ]
    },
    {
     "name": "stdout",
     "output_type": "stream",
     "text": [
      "\n"
     ]
    }
   ],
   "source": [
    "oembed_null = df_tweets.oembed.isnull()\n",
    "if \"author\" in df_tweets.columns:\n",
    "    author_null = df_tweets.author.isnull()\n",
    "else:\n",
    "    author_null = True\n",
    "    \n",
    "for i in tqdm_notebook(df_tweets.index.tolist()):\n",
    "    if oembed_null[i]:\n",
    "        continue\n",
    "    if author_null is not True and not author_null[i]:\n",
    "        continue\n",
    "    status = API.GetStatus(i)\n",
    "    df_tweets.loc[i, \"author\"] = status.user.screen_name\n",
    "    df_tweets.loc[i, \"timestamp\"] = status.created_at_in_seconds\n",
    "    df_tweets.loc[i, \"reply_to_tid\"] = status.in_reply_to_status_id\n",
    "    df_tweets.loc[i, \"reply_to_sname\"] = status.in_reply_to_screen_name"
   ]
  },
  {
   "cell_type": "code",
   "execution_count": 54,
   "metadata": {},
   "outputs": [
    {
     "name": "stdout",
     "output_type": "stream",
     "text": [
      "1417\n"
     ]
    },
    {
     "data": {
      "text/plain": [
       "1417"
      ]
     },
     "execution_count": 54,
     "metadata": {},
     "output_type": "execute_result"
    }
   ],
   "source": [
    "print(df_tweets.reset_index().drop_duplicates(\"tid\").shape[0])\n",
    "df_tweets.shape[0]"
   ]
  },
  {
   "cell_type": "code",
   "execution_count": 56,
   "metadata": {},
   "outputs": [
    {
     "data": {
      "text/html": [
       "<div>\n",
       "<style scoped>\n",
       "    .dataframe tbody tr th:only-of-type {\n",
       "        vertical-align: middle;\n",
       "    }\n",
       "\n",
       "    .dataframe tbody tr th {\n",
       "        vertical-align: top;\n",
       "    }\n",
       "\n",
       "    .dataframe thead th {\n",
       "        text-align: right;\n",
       "    }\n",
       "</style>\n",
       "<table border=\"1\" class=\"dataframe\">\n",
       "  <thead>\n",
       "    <tr style=\"text-align: right;\">\n",
       "      <th></th>\n",
       "      <th>date</th>\n",
       "      <th>headline</th>\n",
       "      <th>no_conversation</th>\n",
       "      <th>sub-headline</th>\n",
       "      <th>tags</th>\n",
       "      <th>parent_tid</th>\n",
       "      <th>oembed</th>\n",
       "      <th>author</th>\n",
       "      <th>timestamp</th>\n",
       "      <th>reply_to_tid</th>\n",
       "      <th>reply_to_sname</th>\n",
       "    </tr>\n",
       "    <tr>\n",
       "      <th>tid</th>\n",
       "      <th></th>\n",
       "      <th></th>\n",
       "      <th></th>\n",
       "      <th></th>\n",
       "      <th></th>\n",
       "      <th></th>\n",
       "      <th></th>\n",
       "      <th></th>\n",
       "      <th></th>\n",
       "      <th></th>\n",
       "      <th></th>\n",
       "    </tr>\n",
       "  </thead>\n",
       "  <tbody>\n",
       "    <tr>\n",
       "      <th>1007900787140366336</th>\n",
       "      <td>2018-06-16</td>\n",
       "      <td>Miscellaneous</td>\n",
       "      <td>False</td>\n",
       "      <td></td>\n",
       "      <td>[misc]</td>\n",
       "      <td>NaN</td>\n",
       "      <td>&lt;p dir=\"ltr\" lang=\"en\"&gt;Artificial intelligence...</td>\n",
       "      <td>NandoDF</td>\n",
       "      <td>1.529137e+09</td>\n",
       "      <td>NaN</td>\n",
       "      <td>None</td>\n",
       "    </tr>\n",
       "    <tr>\n",
       "      <th>1000741704457072641</th>\n",
       "      <td>2018-05-30</td>\n",
       "      <td>Notables</td>\n",
       "      <td>False</td>\n",
       "      <td></td>\n",
       "      <td>[]</td>\n",
       "      <td>NaN</td>\n",
       "      <td>&lt;p dir=\"ltr\" lang=\"en\"&gt;This paper by &lt;a href=\"...</td>\n",
       "      <td>RogerGrosse</td>\n",
       "      <td>1.527430e+09</td>\n",
       "      <td>NaN</td>\n",
       "      <td>None</td>\n",
       "    </tr>\n",
       "    <tr>\n",
       "      <th>999699350669352965</th>\n",
       "      <td>2018-05-25</td>\n",
       "      <td>Notables</td>\n",
       "      <td>False</td>\n",
       "      <td></td>\n",
       "      <td>[]</td>\n",
       "      <td>NaN</td>\n",
       "      <td>&lt;p dir=\"ltr\" lang=\"en\"&gt;My paper on stochastic ...</td>\n",
       "      <td>cboettig</td>\n",
       "      <td>1.527182e+09</td>\n",
       "      <td>NaN</td>\n",
       "      <td>None</td>\n",
       "    </tr>\n",
       "    <tr>\n",
       "      <th>1003692923106549760</th>\n",
       "      <td>2018-06-04</td>\n",
       "      <td>Overfitting?</td>\n",
       "      <td>False</td>\n",
       "      <td></td>\n",
       "      <td>[]</td>\n",
       "      <td>1003535167363911680</td>\n",
       "      <td>&lt;p dir=\"ltr\" lang=\"en\"&gt;“Our sense of progress ...</td>\n",
       "      <td>hardmaru</td>\n",
       "      <td>1.528134e+09</td>\n",
       "      <td>NaN</td>\n",
       "      <td>None</td>\n",
       "    </tr>\n",
       "    <tr>\n",
       "      <th>1002259952336064512</th>\n",
       "      <td>2018-05-31</td>\n",
       "      <td>Data Visualization</td>\n",
       "      <td>False</td>\n",
       "      <td></td>\n",
       "      <td>[dataviz]</td>\n",
       "      <td>NaN</td>\n",
       "      <td>&lt;p dir=\"ltr\" lang=\"en\"&gt;ICYMI, 📊short-course &amp;a...</td>\n",
       "      <td>dataandme</td>\n",
       "      <td>1.527792e+09</td>\n",
       "      <td>NaN</td>\n",
       "      <td>None</td>\n",
       "    </tr>\n",
       "    <tr>\n",
       "      <th>998564220341022722</th>\n",
       "      <td>2018-05-21</td>\n",
       "      <td>Visualization</td>\n",
       "      <td>False</td>\n",
       "      <td></td>\n",
       "      <td>[dataviz]</td>\n",
       "      <td>NaN</td>\n",
       "      <td>&lt;p dir=\"ltr\" lang=\"en\"&gt;Beautiful and Powerful ...</td>\n",
       "      <td>Rbloggers</td>\n",
       "      <td>1.526911e+09</td>\n",
       "      <td>NaN</td>\n",
       "      <td>None</td>\n",
       "    </tr>\n",
       "    <tr>\n",
       "      <th>1000488820372996096</th>\n",
       "      <td>2018-05-26</td>\n",
       "      <td>Miscellaneous</td>\n",
       "      <td>False</td>\n",
       "      <td></td>\n",
       "      <td>[misc]</td>\n",
       "      <td>NaN</td>\n",
       "      <td>&lt;p dir=\"ltr\" lang=\"en\"&gt;not a huge fan of the t...</td>\n",
       "      <td>karpathy</td>\n",
       "      <td>1.527370e+09</td>\n",
       "      <td>NaN</td>\n",
       "      <td>None</td>\n",
       "    </tr>\n",
       "    <tr>\n",
       "      <th>1007755817435553792</th>\n",
       "      <td>2018-06-17</td>\n",
       "      <td>Miscellaneous</td>\n",
       "      <td>False</td>\n",
       "      <td></td>\n",
       "      <td>[misc]</td>\n",
       "      <td>NaN</td>\n",
       "      <td>&lt;p dir=\"ltr\" lang=\"en\"&gt;When I first began lear...</td>\n",
       "      <td>pranaygp</td>\n",
       "      <td>1.529103e+09</td>\n",
       "      <td>NaN</td>\n",
       "      <td>None</td>\n",
       "    </tr>\n",
       "    <tr>\n",
       "      <th>1006238450213883905</th>\n",
       "      <td>2018-06-11</td>\n",
       "      <td>Miscellaneous</td>\n",
       "      <td>False</td>\n",
       "      <td></td>\n",
       "      <td>[misc]</td>\n",
       "      <td>NaN</td>\n",
       "      <td>&lt;p dir=\"ltr\" lang=\"en\"&gt;'Luck is statistics tak...</td>\n",
       "      <td>DataSciFact</td>\n",
       "      <td>1.528741e+09</td>\n",
       "      <td>NaN</td>\n",
       "      <td>None</td>\n",
       "    </tr>\n",
       "    <tr>\n",
       "      <th>1012971830947274752</th>\n",
       "      <td>2018-06-30</td>\n",
       "      <td>Tutorials / Reviews</td>\n",
       "      <td>False</td>\n",
       "      <td>Explaining Model Prediction using SHAP</td>\n",
       "      <td>[review, learning, tutorial]</td>\n",
       "      <td>NaN</td>\n",
       "      <td>&lt;p dir=\"ltr\" lang=\"en\"&gt;How to tell what your t...</td>\n",
       "      <td>radekosmulski</td>\n",
       "      <td>1.530346e+09</td>\n",
       "      <td>NaN</td>\n",
       "      <td>None</td>\n",
       "    </tr>\n",
       "  </tbody>\n",
       "</table>\n",
       "</div>"
      ],
      "text/plain": [
       "                           date             headline  no_conversation  \\\n",
       "tid                                                                     \n",
       "1007900787140366336  2018-06-16        Miscellaneous            False   \n",
       "1000741704457072641  2018-05-30             Notables            False   \n",
       "999699350669352965   2018-05-25             Notables            False   \n",
       "1003692923106549760  2018-06-04         Overfitting?            False   \n",
       "1002259952336064512  2018-05-31   Data Visualization            False   \n",
       "998564220341022722   2018-05-21        Visualization            False   \n",
       "1000488820372996096  2018-05-26        Miscellaneous            False   \n",
       "1007755817435553792  2018-06-17        Miscellaneous            False   \n",
       "1006238450213883905  2018-06-11        Miscellaneous            False   \n",
       "1012971830947274752  2018-06-30  Tutorials / Reviews            False   \n",
       "\n",
       "                                               sub-headline  \\\n",
       "tid                                                           \n",
       "1007900787140366336                                           \n",
       "1000741704457072641                                           \n",
       "999699350669352965                                            \n",
       "1003692923106549760                                           \n",
       "1002259952336064512                                           \n",
       "998564220341022722                                            \n",
       "1000488820372996096                                           \n",
       "1007755817435553792                                           \n",
       "1006238450213883905                                           \n",
       "1012971830947274752  Explaining Model Prediction using SHAP   \n",
       "\n",
       "                                             tags           parent_tid  \\\n",
       "tid                                                                      \n",
       "1007900787140366336                        [misc]                  NaN   \n",
       "1000741704457072641                            []                  NaN   \n",
       "999699350669352965                             []                  NaN   \n",
       "1003692923106549760                            []  1003535167363911680   \n",
       "1002259952336064512                     [dataviz]                  NaN   \n",
       "998564220341022722                      [dataviz]                  NaN   \n",
       "1000488820372996096                        [misc]                  NaN   \n",
       "1007755817435553792                        [misc]                  NaN   \n",
       "1006238450213883905                        [misc]                  NaN   \n",
       "1012971830947274752  [review, learning, tutorial]                  NaN   \n",
       "\n",
       "                                                                oembed  \\\n",
       "tid                                                                      \n",
       "1007900787140366336  <p dir=\"ltr\" lang=\"en\">Artificial intelligence...   \n",
       "1000741704457072641  <p dir=\"ltr\" lang=\"en\">This paper by <a href=\"...   \n",
       "999699350669352965   <p dir=\"ltr\" lang=\"en\">My paper on stochastic ...   \n",
       "1003692923106549760  <p dir=\"ltr\" lang=\"en\">“Our sense of progress ...   \n",
       "1002259952336064512  <p dir=\"ltr\" lang=\"en\">ICYMI, 📊short-course &a...   \n",
       "998564220341022722   <p dir=\"ltr\" lang=\"en\">Beautiful and Powerful ...   \n",
       "1000488820372996096  <p dir=\"ltr\" lang=\"en\">not a huge fan of the t...   \n",
       "1007755817435553792  <p dir=\"ltr\" lang=\"en\">When I first began lear...   \n",
       "1006238450213883905  <p dir=\"ltr\" lang=\"en\">'Luck is statistics tak...   \n",
       "1012971830947274752  <p dir=\"ltr\" lang=\"en\">How to tell what your t...   \n",
       "\n",
       "                            author     timestamp  reply_to_tid reply_to_sname  \n",
       "tid                                                                            \n",
       "1007900787140366336        NandoDF  1.529137e+09           NaN           None  \n",
       "1000741704457072641    RogerGrosse  1.527430e+09           NaN           None  \n",
       "999699350669352965        cboettig  1.527182e+09           NaN           None  \n",
       "1003692923106549760       hardmaru  1.528134e+09           NaN           None  \n",
       "1002259952336064512      dataandme  1.527792e+09           NaN           None  \n",
       "998564220341022722       Rbloggers  1.526911e+09           NaN           None  \n",
       "1000488820372996096       karpathy  1.527370e+09           NaN           None  \n",
       "1007755817435553792       pranaygp  1.529103e+09           NaN           None  \n",
       "1006238450213883905    DataSciFact  1.528741e+09           NaN           None  \n",
       "1012971830947274752  radekosmulski  1.530346e+09           NaN           None  "
      ]
     },
     "execution_count": 56,
     "metadata": {},
     "output_type": "execute_result"
    }
   ],
   "source": [
    "df_tweets.sample(10)"
   ]
  },
  {
   "cell_type": "code",
   "execution_count": 57,
   "metadata": {
    "collapsed": true
   },
   "outputs": [],
   "source": [
    "## Dump Results\n",
    "df_tweets.reset_index().to_pickle(\"../tweets_extended.pkl\")"
   ]
  },
  {
   "cell_type": "code",
   "execution_count": null,
   "metadata": {
    "collapsed": true
   },
   "outputs": [],
   "source": []
  }
 ],
 "metadata": {
  "kernelspec": {
   "display_name": "Python 3",
   "language": "python",
   "name": "python3"
  },
  "language_info": {
   "codemirror_mode": {
    "name": "ipython",
    "version": 3
   },
   "file_extension": ".py",
   "mimetype": "text/x-python",
   "name": "python",
   "nbconvert_exporter": "python",
   "pygments_lexer": "ipython3",
   "version": "3.6.5"
  }
 },
 "nbformat": 4,
 "nbformat_minor": 2
}
